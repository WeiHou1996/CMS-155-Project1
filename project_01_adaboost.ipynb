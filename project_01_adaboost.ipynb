{
 "cells": [
  {
   "cell_type": "code",
   "execution_count": null,
   "metadata": {},
   "outputs": [],
   "source": [
    "import pandas as pd\n",
    "import numpy as np\n",
    "import matplotlib.pyplot as plt\n",
    "\n",
    "from sklearn import metrics\n",
    "from sklearn.ensemble import AdaBoostClassifier\n",
    "from sklearn.model_selection import KFold\n",
    "from data_collection import Collection1, Collection2"
   ]
  },
  {
   "cell_type": "markdown",
   "metadata": {},
   "source": [
    "## Data Collection"
   ]
  },
  {
   "cell_type": "code",
   "execution_count": null,
   "metadata": {},
   "outputs": [],
   "source": [
    "[X_train,Y_train,X_test,ID_test] = Collection1.parse_telecom_data(filename_train='train.csv',filename_test='test.csv')\n",
    "\n",
    "[X_train,Y_train,X_test,ID_test] = Collection2.parse_telecom_data(filename_train='train.csv',filename_test='test.csv')"
   ]
  },
  {
   "cell_type": "markdown",
   "metadata": {},
   "source": [
    "## Adaboost case study"
   ]
  },
  {
   "cell_type": "code",
   "execution_count": null,
   "metadata": {},
   "outputs": [],
   "source": [
    "# AdaBoost case study\n",
    "n_folds = 5\n",
    "kf = KFold(n_splits=n_folds, shuffle=True)    \n",
    "\n",
    "n_est_list = [10, 20, 30, 40, 50, 60, 70, 80, 90, 100, 200, 300, 400, 500, 600, 700, 800]\n",
    "learn_rate_list = np.linspace(0.05,1,5)\n",
    "c = ['b', 'k', 'g', 'r', 'orange']\n",
    "\n",
    "fig, ax = plt.subplots()\n",
    "\n",
    "for i,lr in enumerate(learn_rate_list):\n",
    "    avg_train_metric = np.zeros((len(n_est_list),))\n",
    "    avg_val_metric = np.zeros((len(n_est_list),))\n",
    "    avg_full_metric = np.zeros((len(n_est_list),))\n",
    "    for j,n_est in enumerate(n_est_list):\n",
    "        train_Metric = 0\n",
    "        val_Metric = 0\n",
    "        y_train_prob_avg = 0\n",
    "\n",
    "        for train_idx, val_idx in kf.split(X_train[:,0]):\n",
    "            x_train, x_val = X_train[train_idx,:], X_train[val_idx,:]\n",
    "            y_train, y_val = Y_train[train_idx], Y_train[val_idx]\n",
    "\n",
    "            clf = AdaBoostClassifier(n_estimators=n_est, learning_rate=lr)\n",
    "            clf.fit(x_train, y_train.flatten())\n",
    "            \n",
    "            y_train_prob = clf.predict_proba(x_train)\n",
    "            thisMetric = metrics.roc_auc_score(y_train, y_train_prob[:,1])\n",
    "            train_Metric += thisMetric\n",
    "\n",
    "            y_train_prob = clf.predict_proba(x_val)\n",
    "            thisMetric = metrics.roc_auc_score(y_val, y_train_prob[:,1])\n",
    "            val_Metric += thisMetric\n",
    "\n",
    "            y_train_prob = clf.predict_proba(X_train)\n",
    "            y_train_prob_avg += y_train_prob[:,1]\n",
    "\n",
    "        avg_train_metric[j] = train_Metric/n_folds\n",
    "        avg_val_metric[j] = val_Metric/n_folds\n",
    "        avg_full_metric[j] = metrics.roc_auc_score(Y_train, y_train_prob_avg/n_folds)\n",
    "\n",
    "    ax.plot(n_est_list,avg_train_metric, color=c[i], label=f'LR = {lr}')\n",
    "    ax.plot(n_est_list,avg_val_metric, color=c[i], linestyle='--')\n",
    "    ax.plot(n_est_list,avg_full_metric, color=c[i], linestyle=':')\n",
    "    ax.set_xlabel('Number of estimators')\n",
    "    ax.set_ylabel('Average metric')\n",
    "    plt.title('Adaboost')\n",
    "\n",
    "plt.legend()\n",
    "plt.show()"
   ]
  },
  {
   "cell_type": "markdown",
   "metadata": {},
   "source": [
    "## Adaboost Collection"
   ]
  },
  {
   "cell_type": "code",
   "execution_count": null,
   "metadata": {},
   "outputs": [],
   "source": [
    "n_folds = 5\n",
    "kf = KFold(n_splits=n_folds)    \n",
    "i = 0\n",
    "train_Metric = 0\n",
    "val_Metric = 0\n",
    "y_train_prob_avg = 0\n",
    "y_test_prob_avg = 0\n",
    "\n",
    "for train_idx, val_idx in kf.split(X_train[:,0]):\n",
    "    print(f'--------------- k-fold {i} ---------------')\n",
    "    x_train, x_val = X_train[train_idx,:], X_train[val_idx,:]\n",
    "    y_train, y_val = Y_train[train_idx], Y_train[val_idx]\n",
    "\n",
    "    clf = AdaBoostClassifier(n_estimators=200, learning_rate=0.75);\n",
    "    clf.fit(x_train, y_train.flatten());\n",
    "    \n",
    "    y_prob = clf.predict_proba(x_train);\n",
    "    thisMetric = metrics.roc_auc_score(y_train, y_prob[:,1]);\n",
    "    train_Metric += thisMetric\n",
    "    print(\"Training metric: \",thisMetric)\n",
    "\n",
    "    y_prob = clf.predict_proba(x_val);\n",
    "    thisMetric = metrics.roc_auc_score(y_val, y_prob[:,1]);\n",
    "    val_Metric += thisMetric\n",
    "    print(\"Testing metric: \",thisMetric)\n",
    "\n",
    "    y_train_prob = clf.predict_proba(X_train);\n",
    "    y_train_prob_avg += y_train_prob[:,1]\n",
    "\n",
    "    y_test_prob = clf.predict_proba(X_test);\n",
    "    y_test_prob_avg += y_test_prob[:,1]\n",
    "    print(' ')\n",
    "\n",
    "    i += 1\n",
    "\n",
    "print(f'Average training metric: {train_Metric/n_folds}')\n",
    "print(f'Average testing metric: {val_Metric/n_folds}')\n",
    "thisMetric = metrics.roc_auc_score(Y_train, y_train_prob_avg/n_folds);\n",
    "print(f'Full training metric: {thisMetric}')\n",
    "\n",
    "y_test_prob = y_test_prob_avg/n_folds\n",
    "thisData = np.concatenate((ID_test, np.reshape(y_test_prob,(-1,1))), axis=1);\n",
    "thisLabel = ['ID','TARGET'];\n",
    "y_test_prob_pd = pd.DataFrame(data=thisData,columns=thisLabel)\n",
    "fname_submit = 'test_submission_Ethan.csv';\n",
    "y_test_prob_pd.to_csv(fname_submit,index=False);"
   ]
  }
 ],
 "metadata": {
  "kernelspec": {
   "display_name": "base",
   "language": "python",
   "name": "python3"
  },
  "language_info": {
   "codemirror_mode": {
    "name": "ipython",
    "version": 3
   },
   "file_extension": ".py",
   "mimetype": "text/x-python",
   "name": "python",
   "nbconvert_exporter": "python",
   "pygments_lexer": "ipython3",
   "version": "3.10.13"
  }
 },
 "nbformat": 4,
 "nbformat_minor": 2
}
